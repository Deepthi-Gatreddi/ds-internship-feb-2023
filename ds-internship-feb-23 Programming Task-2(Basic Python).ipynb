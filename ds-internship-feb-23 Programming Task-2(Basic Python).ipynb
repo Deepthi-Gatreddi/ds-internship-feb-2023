{
 "cells": [
  {
   "cell_type": "markdown",
   "metadata": {},
   "source": [
    "Q:1 let's learn about list comprehensions! You are given three integers  and  representing the dimensions of a cuboid along with an integer . Print a list of all possible coordinates given by  on a 3D grid where the sum of  is not equal to . Here, . Please use list comprehensions rather than multiple loops, as a learning exercise."
   ]
  },
  {
   "cell_type": "code",
   "execution_count": null,
   "metadata": {},
   "outputs": [],
   "source": [
    "if __name__ == '__main__':\n",
    "    x = int(input())\n",
    "    y = int(input())\n",
    "    z = int(input())\n",
    "    n = int(input())\n",
    "    \n",
    "print([[m,p,o] for m in range(x+1) for p in range(y+1) for o in range(z+1) if (m+p+o)!=n])\n"
   ]
  },
  {
   "cell_type": "markdown",
   "metadata": {},
   "source": [
    "Q:2 Given the participants' score sheet for your University Sports Day, you are required to find the runner-up score. You are given  scores. Store them in a list and find the score of the runner-up."
   ]
  },
  {
   "cell_type": "code",
   "execution_count": null,
   "metadata": {},
   "outputs": [],
   "source": [
    "if __name__ == '__main__':\n",
    "    n = int(input())\n",
    "    m=input()\n",
    "    l=[]\n",
    "    l.append(m.split())\n",
    "    l=l[0]\n",
    "    m=0\n",
    "    for i in l:\n",
    "        l[m]=int(i)\n",
    "        m=m+1\n",
    "    first=-1000\n",
    "    runner=-1000\n",
    "    for i in l:\n",
    "        if(i>first):\n",
    "           runner=first\n",
    "           first=i\n",
    "        else:\n",
    "            if(i<first and i>runner):\n",
    "                runner=i\n",
    "    print(runner)\n"
   ]
  },
  {
   "cell_type": "markdown",
   "metadata": {},
   "source": [
    "Q:3 Given the names and grades for each student in a class of  students, store them in a nested list and print the name(s) of any student(s) having the second lowest grade.\n",
    "\n",
    "Note: If there are multiple students with the second lowest grade, order their names alphabetically and print each name on a new line."
   ]
  },
  {
   "cell_type": "code",
   "execution_count": null,
   "metadata": {},
   "outputs": [],
   "source": [
    "if __name__ == '__main__':\n",
    "    pairlist=[]\n",
    "    scorelist=[]\n",
    "    for _ in range(int(input())):\n",
    "        name = input()\n",
    "        score = float(input())\n",
    "        scorelist.append(score)\n",
    "        pairlist.append([name,score])  \n",
    "        pairlist.sort(key= lambda x: x[0])\n",
    "        sorted_score = set(scorelist)\n",
    "        sorted_score = sorted(sorted_score)\n",
    "for name, score in pairlist:\n",
    "    if score == sorted_score[1]:\n",
    "        print(name)\n"
   ]
  },
  {
   "cell_type": "markdown",
   "metadata": {},
   "source": [
    "Q:4 The provided code stub will read in a dictionary containing key/value pairs of name:[marks] for a list of students. Print the average of the marks array for the student name provided, showing 2 places after the decimal."
   ]
  },
  {
   "cell_type": "code",
   "execution_count": null,
   "metadata": {},
   "outputs": [],
   "source": [
    "if __name__ == '__main__':\n",
    "    n = int(input())\n",
    "    student_marks = {}\n",
    "    for _ in range(n):\n",
    "        name, *line = input().split()\n",
    "        scores = list(map(float, line))\n",
    "        student_marks[name] = scores\n",
    "    query_name = input()\n",
    "    for i in student_marks:\n",
    "        if(i==query_name):\n",
    "            lis=student_marks[i]\n",
    "            avg=(lis[0]+lis[1]+lis[2])/3\n",
    "    print(format(avg,\".2f\"))\n",
    "            "
   ]
  },
  {
   "cell_type": "markdown",
   "metadata": {},
   "source": [
    "Q:5 Consider a list (list = []). You can perform the following commands:\n",
    "\n",
    "insert i e: Insert integer  at position .\n",
    "print: Print the list.\n",
    "remove e: Delete the first occurrence of integer .\n",
    "append e: Insert integer  at the end of the list.\n",
    "sort: Sort the list.\n",
    "pop: Pop the last element from the list.\n",
    "reverse: Reverse the list.\n",
    "Initialize your list and read in the value of  followed by  lines of commands where each command will be of the  types listed above. Iterate through each command in order and perform the corresponding operation on your list."
   ]
  },
  {
   "cell_type": "code",
   "execution_count": null,
   "metadata": {},
   "outputs": [],
   "source": [
    "if __name__ == '__main__':\n",
    "    N = int(input())\n",
    "    lis=[]\n",
    "for i in range(N):\n",
    "    temp=input().split()\n",
    "    if \"insert\" in temp:\n",
    "        lis.insert(int(temp[1]),int(temp[2]))\n",
    "    elif \"print\" in temp:\n",
    "        print(lis)\n",
    "    elif \"remove\" in temp:\n",
    "        lis.remove(int(temp[1]))\n",
    "    elif \"append\" in temp:\n",
    "        lis.append(int(temp[1]))\n",
    "    elif \"sort\" in temp:\n",
    "        lis.sort()\n",
    "    elif \"pop\" in temp:\n",
    "        lis.pop()\n",
    "    elif \"reverse\" in temp:\n",
    "        lis.reverse()\n"
   ]
  },
  {
   "cell_type": "markdown",
   "metadata": {},
   "source": [
    "Q:6 Given an integer, , and  space-separated integers as input, create a tuple, , of those  integers. Then compute and print the result of .\n",
    "\n",
    "Note: hash() is one of the functions in the __builtins__ module, so it need not be imported."
   ]
  },
  {
   "cell_type": "code",
   "execution_count": null,
   "metadata": {},
   "outputs": [],
   "source": [
    "if __name__ == '__main__':\n",
    "    n = int(input())\n",
    "    integer_list = map(int, input().split())\n",
    "    tuple_list=tuple(integer_list)\n",
    "    print(hash(tuple_list))  \n",
    "    #hasing is the process of converting one value into another based on a specific key or string of characters .they are commonly used in cryptography for authentication.\n"
   ]
  },
  {
   "cell_type": "markdown",
   "metadata": {},
   "source": [
    "Q:7 Now, let's use our knowledge of sets and help Mickey.\n",
    "\n",
    "Ms. Gabriel Williams is a botany professor at District College. One day, she asked her student Mickey to compute the average of all the plants with distinct heights in her greenhouse."
   ]
  },
  {
   "cell_type": "code",
   "execution_count": null,
   "metadata": {},
   "outputs": [],
   "source": [
    "def average(array):\n",
    "    # your code goes here\n",
    "    setarr=set(array)\n",
    "    arr=list(setarr)\n",
    "    sum=0\n",
    "    for x in arr:\n",
    "        sum=sum+x\n",
    "    result=(float(sum))/len(arr)\n",
    "    return result\n",
    "    \n",
    "\n",
    "if __name__ == '__main__':"
   ]
  },
  {
   "cell_type": "markdown",
   "metadata": {},
   "source": [
    "Q:8 There is an array of  integers. There are also  disjoint sets,  and , each containing  integers. You like all the integers in set  and dislike all the integers in set . Your initial happiness is . For each  integer in the array, if , you add  to your happiness. If , you add  to your happiness. Otherwise, your happiness does not change. Output your final happiness at the end.\n",
    "\n",
    "Note: Since  and  are sets, they have no repeated elements. However, the array might contain duplicate elements."
   ]
  },
  {
   "cell_type": "code",
   "execution_count": null,
   "metadata": {},
   "outputs": [],
   "source": [
    "N,M = list(map(int, input().split()))\n",
    "Arr= list(map(int, input().split()))\n",
    "A=list(map(int, input().split()))\n",
    "B=list(map(int, input().split()))\n",
    "happiness=0\n",
    "for num in Arr:\n",
    "    if num in A:\n",
    "        happiness=happiness+1\n",
    "    elif num in B:\n",
    "        happiness=happiness-1\n",
    "print(happiness)\n"
   ]
  },
  {
   "cell_type": "markdown",
   "metadata": {},
   "source": [
    "Q:9 Given  sets of integers,  and , print their symmetric difference in ascending order. The term symmetric difference indicates those values that exist in either  or  but do not exist in both."
   ]
  },
  {
   "cell_type": "code",
   "execution_count": null,
   "metadata": {},
   "outputs": [],
   "source": [
    "first=int(input())\n",
    "firstlist=set(map(int,input().split()))\n",
    "second=int(input())\n",
    "secondlist=set(map(int,input().split()))\n",
    "symdif= sorted(firstlist.symmetric_difference(secondlist)) \n",
    "for i in symdif: \n",
    "    print(i)\n"
   ]
  },
  {
   "cell_type": "markdown",
   "metadata": {},
   "source": [
    "Q:10 Apply your knowledge of the .add() operation to help your friend Rupal.\n",
    "\n",
    "Rupal has a huge collection of country stamps. She decided to count the total number of distinct country stamps in her collection. She asked for your help. You pick the stamps one by one from a stack of  country stamps.\n",
    "\n",
    "Find the total number of distinct country stamps."
   ]
  },
  {
   "cell_type": "code",
   "execution_count": null,
   "metadata": {},
   "outputs": [],
   "source": [
    "# n=int(input())\n",
    "# l=[]\n",
    "# count=0\n",
    "# for _ in range(n):\n",
    "#     country=input()\n",
    "#     if country not in l:\n",
    "#         l.append(country)\n",
    "#         count=count+1\n",
    "# print(count)\n",
    "n=int(input())   \n",
    "sett=set()\n",
    "for _ in range(n):\n",
    "     country=input()\n",
    "     sett.add(country)\n",
    "print(len(sett))"
   ]
  },
  {
   "cell_type": "markdown",
   "metadata": {},
   "source": [
    "Q:11 You have a non-empty set , and you have to execute  commands given in  lines.\n",
    "\n",
    "The commands will be pop, remove and discard."
   ]
  },
  {
   "cell_type": "code",
   "execution_count": null,
   "metadata": {},
   "outputs": [],
   "source": [
    "input()\n",
    "set1=set(map(int,input().split()))\n",
    "n=int(input())\n",
    "i=0\n",
    "for _ in range(n):\n",
    "    temp=input().split()\n",
    "    if(\"pop\" in temp):\n",
    "        set2=list(set1)\n",
    "        set2.pop(0)\n",
    "        set1=set(set2)\n",
    "    elif(\"remove\" in temp):\n",
    "        a=int(temp[1])\n",
    "        set1.remove(a)\n",
    "    elif(\"discard\" in temp):\n",
    "        set1.discard(int(temp[1]))\n",
    "sum=0\n",
    "for i in set1:\n",
    "    sum=sum+i\n",
    "print(sum)\n"
   ]
  },
  {
   "cell_type": "markdown",
   "metadata": {},
   "source": [
    "Q:12 The students of District College have subscriptions to English and French newspapers. Some students have subscribed only to English, some have subscribed to only French and some have subscribed to both newspapers.\n",
    "\n",
    "You are given two sets of student roll numbers. One set has subscribed to the English newspaper, and the other set is subscribed to the French newspaper. The same student could be in both sets. Your task is to find the total number of students who have subscribed to at least one newspaper."
   ]
  },
  {
   "cell_type": "code",
   "execution_count": null,
   "metadata": {},
   "outputs": [],
   "source": [
    "input()\n",
    "englis=set(map(int,input().split()))\n",
    "input()\n",
    "frenlis=set(map(int,input().split()))\n",
    "atleastpar=englis.union(frenlis)\n",
    "print(len(atleastpar))\n"
   ]
  },
  {
   "cell_type": "markdown",
   "metadata": {},
   "source": [
    "Q:13 The students of District College have subscriptions to English and French newspapers. Some students have subscribed only to English, some have subscribed only to French, and some have subscribed to both newspapers.\n",
    "\n",
    "You are given two sets of student roll numbers. One set has subscribed to the English newspaper, one set has subscribed to the French newspaper. Your task is to find the total number of students who have subscribed to both newspapers."
   ]
  },
  {
   "cell_type": "code",
   "execution_count": null,
   "metadata": {},
   "outputs": [],
   "source": [
    "input()\n",
    "englis= set(map(int, input().split()))\n",
    "input()\n",
    "frenlis= set(map(int, input().split()))\n",
    "print(len(englis & frenlis))\n"
   ]
  },
  {
   "cell_type": "markdown",
   "metadata": {},
   "source": [
    "Q:14 Students of District College have a subscription to English and French newspapers. Some students have subscribed to only the English newspaper, some have subscribed to only the French newspaper, and some have subscribed to both newspapers.\n",
    "\n",
    "You are given two sets of student roll numbers. One set has subscribed to the English newspaper, and one set has subscribed to the French newspaper. Your task is to find the total number of students who have subscribed to only English newspapers."
   ]
  },
  {
   "cell_type": "code",
   "execution_count": null,
   "metadata": {},
   "outputs": [],
   "source": [
    "input()\n",
    "englis= set(input().split())\n",
    "input()\n",
    "frenlis=set(input().split())\n",
    "print(len(englis.difference(frenlis)))"
   ]
  },
  {
   "cell_type": "markdown",
   "metadata": {},
   "source": [
    "Q:15 Students of District College have subscriptions to English and French newspapers. Some students have subscribed to English only, some have subscribed to French only, and some have subscribed to both newspapers.\n",
    "\n",
    "You are given two sets of student roll numbers. One set has subscribed to the English newspaper, and one set has subscribed to the French newspaper. Your task is to find the total number of students who have subscribed to either the English or the French newspaper but not both."
   ]
  },
  {
   "cell_type": "code",
   "execution_count": null,
   "metadata": {},
   "outputs": [],
   "source": [
    "input()\n",
    "englis= set(input().split())\n",
    "input()\n",
    "frenlis=input().split()\n",
    "print(len(englis.symmetric_difference(frenlis)))\n"
   ]
  },
  {
   "cell_type": "markdown",
   "metadata": {},
   "source": [
    "Q:16 You are given a set  and  number of other sets. These  number of sets have to perform some specific mutation operations on set .\n",
    "\n",
    "Your task is to execute those operations and print the sum of elements from set ."
   ]
  },
  {
   "cell_type": "code",
   "execution_count": null,
   "metadata": {},
   "outputs": [],
   "source": [
    "input()\n",
    "lis = set(map(int, input().split()))\n",
    "n = int(input())\n",
    "for _ in range(n):\n",
    "  temp= input().split()\n",
    "  lis2= set(map(int, input().split()))\n",
    "  if(temp[0]==\"intersection_update\"):   \n",
    "    lis.intersection_update(lis2)\n",
    "  elif(temp[0]=='update'):\n",
    "    lis.update(lis2)\n",
    "  elif(temp[0]=='symmetric_difference_update'):\n",
    "    lis.symmetric_difference_update(lis2)\n",
    "  else:\n",
    "    lis.difference_update(lis2)\n",
    "\n",
    "print(sum(lis))\n"
   ]
  },
  {
   "cell_type": "code",
   "execution_count": null,
   "metadata": {},
   "outputs": [],
   "source": [
    "Q:17 Mr. Anant Asankhya is the manager at the INFINITE hotel. The hotel has an infinite amount of rooms.\n",
    "\n",
    "One fine day, a finite number of tourists come to stay at the hotel.\n",
    "The tourists consist of:\n",
    "→ A Captain.\n",
    "→ An unknown group of families consisting of  members per group where  ≠ .\n",
    "\n",
    "The Captain was given a separate room, and the rest were given one room per group.\n",
    "\n",
    "Mr. Anant has an unordered list of randomly arranged room entries. The list consists of the room numbers for all of the tourists. The room numbers will appear  times per group except for the Captain's room.\n",
    "\n",
    "Mr. Anant needs you to help him find the Captain's room number.\n",
    "The total number of tourists or the total number of groups of families is not known to you.\n",
    "You only know the value of  and the room number list."
   ]
  },
  {
   "cell_type": "code",
   "execution_count": null,
   "metadata": {},
   "outputs": [],
   "source": [
    "from collections import Counter\n",
    "\n",
    "input()\n",
    "print(Counter(input().split()).most_common()[-1][0])\n"
   ]
  },
  {
   "cell_type": "markdown",
   "metadata": {},
   "source": [
    "Q:18 You are given two sets,  and .\n",
    "Your job is to find whether set  is a subset of set .\n",
    "\n",
    "If set  is subset of set , print True.\n",
    "If set  is not a subset of set , print False."
   ]
  },
  {
   "cell_type": "code",
   "execution_count": null,
   "metadata": {},
   "outputs": [],
   "source": [
    "n=int(input())\n",
    "for _ in range(n):\n",
    "    input()\n",
    "    set1=set(map(int,input().split()))\n",
    "    input()\n",
    "    set2=set(map(int,input().split()))\n",
    "    if len(set2) == len(set2.union(set1)):\n",
    "        print('True')\n",
    "    else:\n",
    "        print('False')\n"
   ]
  },
  {
   "cell_type": "markdown",
   "metadata": {},
   "source": [
    "Q:19 You are given a set  and  other sets.\n",
    "Your job is to find whether set  is a strict superset of each of the  sets.\n",
    "\n",
    "Print True, if  is a strict superset of each of the  sets. Otherwise, print False.\n",
    "\n",
    "A strict superset has at least one element that does not exist in its subset."
   ]
  },
  {
   "cell_type": "code",
   "execution_count": null,
   "metadata": {},
   "outputs": [],
   "source": [
    "sett= set(input().split())\n",
    "result= True\n",
    "n=int(input())\n",
    "for _ in range(n):\n",
    "    set1= set(input().split())\n",
    "    if(len(set1)>=len(sett) or (len(set1)!=len(set1.intersection(sett)))):\n",
    "        result = False\n",
    "        break\n",
    "print (result)\n"
   ]
  }
 ],
 "metadata": {
  "kernelspec": {
   "display_name": "Python 3",
   "language": "python",
   "name": "python3"
  },
  "language_info": {
   "codemirror_mode": {
    "name": "ipython",
    "version": 3
   },
   "file_extension": ".py",
   "mimetype": "text/x-python",
   "name": "python",
   "nbconvert_exporter": "python",
   "pygments_lexer": "ipython3",
   "version": "3.7.4"
  }
 },
 "nbformat": 4,
 "nbformat_minor": 2
}
