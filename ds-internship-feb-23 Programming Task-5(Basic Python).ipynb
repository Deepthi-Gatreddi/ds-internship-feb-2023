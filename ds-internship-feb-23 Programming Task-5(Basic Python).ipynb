{
 "cells": [
  {
   "cell_type": "markdown",
   "metadata": {},
   "source": [
    "1. You are given a string .\n",
    "Your task is to verify that  is a floating point number.\n",
    "\n",
    "In this task, a valid float number must satisfy all of the following requirements:"
   ]
  },
  {
   "cell_type": "code",
   "execution_count": null,
   "metadata": {},
   "outputs": [],
   "source": [
    "import re\n",
    "regex = r\"^[+-]?[0-9]*[.][0-9]+$\";\n",
    "\n",
    "T = int(input())\n",
    "matchs = [False]*T\n",
    "for i in range(T):\n",
    "    string = input()\n",
    "    if re.match(regex, string):\n",
    "        matchs[i] = True\n",
    "for m in matchs:\n",
    "    print(m)\n"
   ]
  },
  {
   "cell_type": "markdown",
   "metadata": {},
   "source": [
    "2. You are given a string  consisting only of digits 0-9, commas ,, and dots .\n",
    "\n",
    "Your task is to complete the regex_pattern defined below, which will be used to re.split() all of the , and . symbols in .\n",
    "\n",
    "It’s guaranteed that every comma and every dot in  is preceeded and followed by a digit."
   ]
  },
  {
   "cell_type": "code",
   "execution_count": null,
   "metadata": {},
   "outputs": [],
   "source": [
    "regex_pattern = r\"[\\,\\.]\"\t# Do not delete 'r'.\n",
    "\n",
    "import re\n",
    "print(\"\\n\".join(re.split(regex_pattern, input())))"
   ]
  },
  {
   "cell_type": "markdown",
   "metadata": {},
   "source": [
    "3. You are given a string .\n",
    "Your task is to find the first occurrence of an alphanumeric character in  (read from left to right) that has consecutive repetitions."
   ]
  },
  {
   "cell_type": "code",
   "execution_count": null,
   "metadata": {},
   "outputs": [],
   "source": [
    "import re\n",
    "char = input()\n",
    "pattern = r\"([a-zA-Z0-9])\\1+\"\n",
    "match = re.search(pattern,char)\n",
    "if match:\n",
    "    print(match.group(1))\n",
    "else:\n",
    "    print(-1)\n"
   ]
  },
  {
   "cell_type": "markdown",
   "metadata": {},
   "source": [
    "4. You are given a string . It consists of alphanumeric characters, spaces and symbols(+,-).\n",
    "Your task is to find all the substrings of  that contains  or more vowels.\n",
    "Also, these substrings must lie in between  consonants and should contain vowels only."
   ]
  },
  {
   "cell_type": "code",
   "execution_count": null,
   "metadata": {},
   "outputs": [],
   "source": [
    "import re\n",
    "text = r'[aeiouAEIOU^]?[aeiouAEIOU]{2,}[^aeiouAEIOU$]'\n",
    "value = re.findall(text,input())\n",
    "if value:\n",
    "    [print(i[:-1]) for i in value]\n",
    "else:\n",
    "    print(-1)\n"
   ]
  },
  {
   "cell_type": "markdown",
   "metadata": {},
   "source": [
    "5. You are given a string .\n",
    "Your task is to find the indices of the start and end of string  in ."
   ]
  },
  {
   "cell_type": "code",
   "execution_count": null,
   "metadata": {},
   "outputs": [],
   "source": [
    "import re\n",
    "\n",
    "string = input().strip()\n",
    "match = input().strip()\n",
    "List_index = []\n",
    "for i in range(0,len(string)):\n",
    "    search = re.search(match,string[i:])\n",
    "    if search and not (search.start()+i,search.end()-1+i) in List_index:\n",
    "       print((search.start()+i,search.end()-1+i))\n",
    "       List_index.append((search.start()+i,search.end()-1+i))\n",
    "    else:\n",
    "        if search and (len(string)==search.end()+i):\n",
    "            break\n",
    "if not List_index:\n",
    "    print((-1,-1))\n"
   ]
  },
  {
   "cell_type": "markdown",
   "metadata": {},
   "source": [
    "6. You are given a text of  lines. The text contains && and || symbols.\n",
    "Your task is to modify those symbols to the following:\n",
    "\n",
    "&& → and\n",
    "|| → or\n",
    "Both && and || should have a space \" \" on both sides."
   ]
  },
  {
   "cell_type": "code",
   "execution_count": null,
   "metadata": {},
   "outputs": [],
   "source": [
    "import re\n",
    "def subst(match):\n",
    "    #print(match.group(0))\n",
    "    if match.group(0)=='&& ':\n",
    "        return 'and '\n",
    "    if match.group(0)=='|| ':\n",
    "        return 'or '\n",
    "    raise ValueError\n",
    "\n",
    "\n",
    "n=int(input())\n",
    "for _ in range(n):\n",
    "    line=input()\n",
    "    print(re.sub(r'((?<= )\\&\\& )|((?<= )\\|\\| )', subst, line))"
   ]
  },
  {
   "cell_type": "markdown",
   "metadata": {},
   "source": [
    "7. You are given a string, and you have to validate whether it's a valid Roman numeral. If it is valid, print True. Otherwise, print False. Try to create a regular expression for a valid Roman numeral."
   ]
  },
  {
   "cell_type": "code",
   "execution_count": null,
   "metadata": {},
   "outputs": [],
   "source": [
    "regex_pattern = r\"^(?=[MDCLXVI])M{0,3}(C[MD]|D?C{0,3})(X[CL]|L?X{0,3})(I[XV]|V?I{0,3})$\"\t# Do not delete 'r'.\n",
    "\n",
    "import re\n",
    "print(str(bool(re.match(regex_pattern, input()))))"
   ]
  },
  {
   "cell_type": "markdown",
   "metadata": {},
   "source": [
    "8. Let's dive into the interesting topic of regular expressions! You are given some input, and you are required to check whether they are valid mobile numbers.\n",
    "\n",
    "A valid mobile number is a ten digit number starting with a  or ."
   ]
  },
  {
   "cell_type": "code",
   "execution_count": null,
   "metadata": {},
   "outputs": [],
   "source": [
    "import re\n",
    "\n",
    "for _ in range(int(input())):\n",
    "    print('YES' if re.match(r'^[7-9]\\d{9}$', input()) else 'NO')\n"
   ]
  },
  {
   "cell_type": "markdown",
   "metadata": {},
   "source": [
    "9. A valid email address meets the following criteria:\n",
    "\n",
    "It's composed of a username, domain name, and extension assembled in this format: username@domain.extension\n",
    "The username starts with an English alphabetical character, and any subsequent characters consist of one or more of the following: alphanumeric characters, -,., and _.\n",
    "The domain and extension contain only English alphabetical characters.\n",
    "The extension is , , or  characters in length.\n",
    "Given  pairs of names and email addresses as input, print each name and email address pair having a valid email address on a new line.\n",
    "\n",
    "Hint: Try using Email.utils() to complete this challenge. For example, this code:"
   ]
  },
  {
   "cell_type": "code",
   "execution_count": null,
   "metadata": {},
   "outputs": [],
   "source": [
    "import email.utils\n",
    "import re\n",
    "\n",
    "for _ in range(int(input())):\n",
    "    parser = email.utils.parseaddr(input())\n",
    "    email_pattern = r\"^[a-z][\\w\\-.]*@[a-z]+\\.[a-z]{1,3}$\"\n",
    "    match = re.search(email_pattern, parser[1], re.I)\n",
    "    if match:\n",
    "        print(email.utils.formataddr(parser))\n"
   ]
  },
  {
   "cell_type": "markdown",
   "metadata": {},
   "source": [
    "10. CSS colors are defined using a hexadecimal (HEX) notation for the combination of Red, Green, and Blue color values (RGB).\n",
    "\n",
    "Specifications of HEX Color Code\n",
    "\n",
    "■ It must start with a '#' symbol.\n",
    "■ It can have  or  digits.\n",
    "■ Each digit is in the range of  to . ( and ).\n",
    "■  letters can be lower case. ( and  are also valid digits)."
   ]
  },
  {
   "cell_type": "code",
   "execution_count": null,
   "metadata": {},
   "outputs": [],
   "source": [
    "import re\n",
    "\n",
    "pattern = re.compile(r'#([0-9a-fA-F]{1,2}){3}')\n",
    "\n",
    "res = []\n",
    "for _ in range(int(input())):\n",
    "    s = input()\n",
    "    if s.endswith(';'):\n",
    "        res += [m.group(0) for m in re.finditer(pattern, s)]\n",
    "print(*res, sep='\\n')\n"
   ]
  },
  {
   "cell_type": "markdown",
   "metadata": {},
   "source": [
    "11. You are given an HTML code snippet of  lines.\n",
    "Your task is to print start tags, end tags and empty tags separately.\n",
    "\n",
    "Format your results in the following way:\n",
    "\n",
    "Start : Tag1\n",
    "End   : Tag1\n",
    "Start : Tag2\n",
    "-> Attribute2[0] > Attribute_value2[0]\n",
    "-> Attribute2[1] > Attribute_value2[1]\n",
    "-> Attribute2[2] > Attribute_value2[2]\n",
    "Start : Tag3\n",
    "-> Attribute3[0] > None\n",
    "Empty : Tag4\n",
    "-> Attribute4[0] > Attribute_value4[0]\n",
    "End   : Tag3\n",
    "End   : Tag2\n",
    "Here, the -> symbol indicates that the tag contains an attribute. It is immediately followed by the name of the attribute and the attribute value.\n",
    "The > symbol acts as a separator of the attribute and the attribute value.\n",
    "\n",
    "If an HTML tag has no attribute then simply print the name of the tag.\n",
    "If an attribute has no attribute value then simply print the name of the attribute value as None.\n",
    "\n",
    "Note: Do not detect any HTML tag, attribute or attribute value inside the HTML comment tags (<!-- Comments -->).Comments can be multiline as well."
   ]
  },
  {
   "cell_type": "code",
   "execution_count": null,
   "metadata": {},
   "outputs": [],
   "source": [
    "from html.parser import HTMLParser\n",
    "\n",
    "class MyParser(HTMLParser):\n",
    "    def print(self, action, tag, attrs=()):\n",
    "        print(f\"{action:5} : {tag}\")\n",
    "        for name, value in attrs:\n",
    "            print(f\"-> {name} > {value}\")\n",
    "        \n",
    "    def handle_starttag(self, tag, attrs):\n",
    "        self.print(\"Start\", tag, attrs)\n",
    "\n",
    "    def handle_endtag(self, tag):\n",
    "        self.print(\"End\", tag)\n",
    "\n",
    "    def handle_startendtag(self, tag, attrs):\n",
    "        self.print(\"Empty\", tag, attrs)\n",
    "\n",
    "parser = MyParser()\n",
    "for _ in range(int(input())):\n",
    "    parser.feed(input())\n"
   ]
  },
  {
   "cell_type": "markdown",
   "metadata": {},
   "source": [
    "12. You are given an HTML code snippet of  lines.\n",
    "Your task is to print the single-line comments, multi-line comments and the data.\n",
    "\n",
    "Print the result in the following format:\n",
    "\n",
    ">>> Single-line Comment  \n",
    "Comment\n",
    ">>> Data                 \n",
    "My Data\n",
    ">>> Multi-line Comment  \n",
    "Comment_multiline[0]\n",
    "Comment_multiline[1]\n",
    ">>> Data\n",
    "My Data\n",
    ">>> Single-line Comment:  \n",
    "Note: Do not print data if data == '\\n'."
   ]
  },
  {
   "cell_type": "code",
   "execution_count": null,
   "metadata": {},
   "outputs": [],
   "source": [
    "from html.parser import HTMLParser\n",
    "\n",
    "class MyHTMLParser(HTMLParser):\n",
    "    def handle_comment(self, data):\n",
    "        data = str(data).split('\\n')\n",
    "        if len(data)>1:\n",
    "            print('>>> Multi-line Comment', *data, sep='\\n')\n",
    "        else:\n",
    "            print('>>> Single-line Comment', data[0], sep='\\n')            \n",
    "    def handle_data(self, data):\n",
    "        data = str(data).replace('\\n', '')\n",
    "        if len(data)>0:\n",
    "            print('>>> Data', data, sep='\\n')\n",
    "\n",
    "html = \"\"       \n",
    "for _ in range(int(input())):\n",
    "    html += input().rstrip()\n",
    "    html += '\\n'\n",
    "    \n",
    "parser = MyHTMLParser()\n",
    "parser.feed(html)\n",
    "parser.close()\n"
   ]
  },
  {
   "cell_type": "markdown",
   "metadata": {},
   "source": [
    "13. You are given an HTML code snippet of  lines.\n",
    "Your task is to detect and print all the HTML tags, attributes and attribute values.\n",
    "\n",
    "Print the detected items in the following format:\n",
    "\n",
    "Tag1\n",
    "Tag2\n",
    "-> Attribute2[0] > Attribute_value2[0]\n",
    "-> Attribute2[1] > Attribute_value2[1]\n",
    "-> Attribute2[2] > Attribute_value2[2]\n",
    "Tag3\n",
    "-> Attribute3[0] > Attribute_value3[0]\n",
    "\n",
    "\n",
    "The -> symbol indicates that the tag contains an attribute. It is immediately followed by the name of the attribute and the attribute value.\n",
    "The > symbol acts as a separator of attributes and attribute values.\n",
    "\n",
    "If an HTML tag has no attribute then simply print the name of the tag.\n",
    "\n",
    "Note: Do not detect any HTML tag, attribute or attribute value inside the HTML comment tags (<!-- Comments -->). Comments can be multiline.\n",
    "All attributes have an attribute value."
   ]
  },
  {
   "cell_type": "code",
   "execution_count": null,
   "metadata": {},
   "outputs": [],
   "source": [
    "from html.parser import HTMLParser\n",
    "\n",
    "class CustomHTMLParser(HTMLParser):\n",
    "    \n",
    "    def custom_print_attrs(self, attrs):\n",
    "        if attrs:\n",
    "            for attr in attrs:\n",
    "                print('->', attr[0], '>', attr[1])\n",
    "    \n",
    "    def handle_starttag(self, tag, attrs):\n",
    "        print(tag)\n",
    "        self.custom_print_attrs(attrs)\n",
    "\n",
    "    def handle_startendtag(self, tag, attrs):\n",
    "        print(tag)\n",
    "        self.custom_print_attrs(attrs)\n",
    "\n",
    "html_parser = CustomHTMLParser()\n",
    "pages = [input() for i in range(int(input()))]\n",
    "\n",
    "for page in pages:\n",
    "    html_parser.feed(page)\n"
   ]
  },
  {
   "cell_type": "markdown",
   "metadata": {},
   "source": [
    "14. ABCXYZ company has up to  employees.\n",
    "The company decides to create a unique identification number (UID) for each of its employees.\n",
    "The company has assigned you the task of validating all the randomly generated UIDs.\n",
    "\n",
    "A valid UID must follow the rules below:\n",
    "\n",
    "It must contain at least  uppercase English alphabet characters.\n",
    "It must contain at least  digits ( - ).\n",
    "It should only contain alphanumeric characters ( - ,  -  &  - ).\n",
    "No character should repeat.\n",
    "There must be exactly  characters in a valid UID."
   ]
  },
  {
   "cell_type": "code",
   "execution_count": null,
   "metadata": {},
   "outputs": [],
   "source": [
    "import re\n",
    "n = int(input())\n",
    "for i in range(n):\n",
    "    s = input()\n",
    "    if len(re.findall(r'[A-Z]',s)) >= 2:\n",
    "        if len(re.findall(r'[0-9]', s)) >= 3:\n",
    "            if re.match(r'^[A-Za-z0-9]+$', s):\n",
    "                if  len(re.findall(r'(.).*\\1', s)) == 0:\n",
    "                    if len(s) == 10:\n",
    "                        print('Valid')\n",
    "                        continue\n",
    "    print('Invalid')\n"
   ]
  },
  {
   "cell_type": "markdown",
   "metadata": {},
   "source": [
    "15. You and Fredrick are good friends. Yesterday, Fredrick received  credit cards from ABCD Bank. He wants to verify whether his credit card numbers are valid or not. You happen to be great at regex so he is asking for your help!\n",
    "\n",
    "A valid credit card from ABCD Bank has the following characteristics:\n",
    "\n",
    "► It must start with a ,  or .\n",
    "► It must contain exactly  digits.\n",
    "► It must only consist of digits (-).\n",
    "► It may have digits in groups of , separated by one hyphen \"-\".\n",
    "► It must NOT use any other separator like ' ' , '_', etc.\n",
    "► It must NOT have  or more consecutive repeated digits."
   ]
  },
  {
   "cell_type": "code",
   "execution_count": null,
   "metadata": {},
   "outputs": [],
   "source": [
    "import re\n",
    "\n",
    "for i in range(int(input())):\n",
    "    \n",
    "    text = input()\n",
    "    pattern = re.compile(r\"^([456][\\d+]{3})-([\\d+]{4})-([\\d+]{4})-([\\d+]{4})$|^([456][\\d+]{15})$\")\n",
    "\n",
    "    if pattern.match(text):\n",
    "        text = ''.join([i for i in text if i != '-'])\n",
    "        if all([False if i*4 in text  else True for i in set(text)]):\n",
    "            print(\"Valid\")\n",
    "        else:\n",
    "            print(\"Invalid\")\n",
    "    else:\n",
    "        print(\"Invalid\")    \n",
    "    \n"
   ]
  },
  {
   "cell_type": "markdown",
   "metadata": {},
   "source": [
    "16. Your task is to provide two regular expressions regex_integer_in_range and regex_alternating_repetitive_digit_pair. Where:\n",
    "\n",
    "regex_integer_in_range should match only integers range from  to  inclusive\n",
    "\n",
    "regex_alternating_repetitive_digit_pair should find alternating repetitive digits pairs in a given string.\n",
    "\n",
    "Both these regular expressions will be used by the provided code template to check if the input string  is a valid postal code using the following expression:"
   ]
  },
  {
   "cell_type": "code",
   "execution_count": null,
   "metadata": {},
   "outputs": [],
   "source": [
    "regex_integer_in_range = r\"^[1-9]\\d{5}$\"    # Do not delete 'r'.\n",
    "regex_alternating_repetitive_digit_pair = r\"(\\d)(?=\\d\\1)\"    # Do not delete 'r'.\n",
    "\n",
    "\n",
    "import re\n",
    "P = input()\n",
    "\n",
    "print (bool(re.match(regex_integer_in_range, P)) \n",
    "and len(re.findall(regex_alternating_repetitive_digit_pair, P)) < 2)\n",
    "\n",
    "\n",
    "import re\n",
    "P = input()\n",
    "\n",
    "print (bool(re.match(regex_integer_in_range, P)) \n",
    "and len(re.findall(regex_alternating_repetitive_digit_pair, P)) < 2)"
   ]
  },
  {
   "cell_type": "markdown",
   "metadata": {},
   "source": [
    "17. Neo has a complex matrix script. The matrix script is a  X  grid of strings. It consists of alphanumeric characters, spaces and symbols (!,@,#,$,%,&).\n",
    "\n",
    "Capture.JPG\n",
    "\n",
    "To decode the script, Neo needs to read each column and select only the alphanumeric characters and connect them. Neo reads the column from top to bottom and starts reading from the leftmost column.\n",
    "\n",
    "If there are symbols or spaces between two alphanumeric characters of the decoded script, then Neo replaces them with a single space '' for better readability.\n",
    "\n",
    "Neo feels that there is no need to use 'if' conditions for decoding.\n",
    "\n",
    "Alphanumeric characters consist of: [A-Z, a-z, and 0-9]."
   ]
  },
  {
   "cell_type": "code",
   "execution_count": null,
   "metadata": {},
   "outputs": [],
   "source": [
    "import math\n",
    "import os\n",
    "import random\n",
    "import re\n",
    "import sys\n",
    "\n",
    "\n",
    "n, m = input().split()\n",
    "n, m = int(n), int(m)\n",
    "\n",
    "line_list = []\n",
    "for i in range(n):\n",
    "    line = input()\n",
    "    line_list.append(line)\n",
    "\n",
    "transposed_tuple_list = list(zip(*line_list))\n",
    "\n",
    "joined_string = ''\n",
    "for i in transposed_tuple_list:\n",
    "    joined_string = joined_string + ''.join(i)\n",
    "    \n",
    "print(re.sub(r'(?<=[a-zA-Z0-9])[!@#$%&\\s]+(?=[a-zA-Z0-9])', ' ', joined_string))\n"
   ]
  }
 ],
 "metadata": {
  "kernelspec": {
   "display_name": "Python 3",
   "language": "python",
   "name": "python3"
  },
  "language_info": {
   "codemirror_mode": {
    "name": "ipython",
    "version": 3
   },
   "file_extension": ".py",
   "mimetype": "text/x-python",
   "name": "python",
   "nbconvert_exporter": "python",
   "pygments_lexer": "ipython3",
   "version": "3.7.4"
  }
 },
 "nbformat": 4,
 "nbformat_minor": 2
}
