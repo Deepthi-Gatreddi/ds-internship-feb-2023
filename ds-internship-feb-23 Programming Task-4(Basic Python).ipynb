{
 "cells": [
  {
   "cell_type": "markdown",
   "metadata": {},
   "source": [
    "1. You are given a string and your task is to swap cases. In other words, convert all lowercase letters to uppercase letters and vice versa."
   ]
  },
  {
   "cell_type": "code",
   "execution_count": null,
   "metadata": {},
   "outputs": [],
   "source": [
    "def swap_case(s):\n",
    "    result=s.swapcase()\n",
    "    return result\n",
    "\n",
    "if __name__ == '__main__':\n",
    "    s = input()\n",
    "    result = swap_case(s)\n",
    "    print(result)"
   ]
  },
  {
   "cell_type": "markdown",
   "metadata": {},
   "source": [
    "2. You are given a string. Split the string on a \" \" (space) delimiter and join using a - hyphen."
   ]
  },
  {
   "cell_type": "code",
   "execution_count": null,
   "metadata": {},
   "outputs": [],
   "source": [
    "def split_and_join(line):\n",
    "    # write your code here\n",
    "    line=line.split()\n",
    "    line=\"-\".join(line)\n",
    "    return line\n",
    "\n",
    "if __name__ == '__main__':\n",
    "    line = input()\n",
    "    result = split_and_join(line)\n",
    "    print(result)\n"
   ]
  },
  {
   "cell_type": "markdown",
   "metadata": {},
   "source": [
    "3. You are given the firstname and lastname of a person on two different lines. Your task is to read them and print the following:\n",
    "\n",
    "Hello firstname lastname! You just delved into python."
   ]
  },
  {
   "cell_type": "code",
   "execution_count": null,
   "metadata": {},
   "outputs": [],
   "source": [
    "def print_full_name(first, last):\n",
    "    # Write your code here\n",
    "    print(\"Hello \"+first+\" \"+last+\"! You just delved into python.\")\n",
    "\n",
    "if __name__ == '__main__':\n",
    "    first_name = input()\n",
    "    last_name = input()\n",
    "    print_full_name(first_name, last_name)"
   ]
  },
  {
   "cell_type": "markdown",
   "metadata": {},
   "source": [
    "4. Read a given string, change the character at a given index and then print the modified string."
   ]
  },
  {
   "cell_type": "code",
   "execution_count": null,
   "metadata": {},
   "outputs": [],
   "source": [
    "def mutate_string(string, position, character):\n",
    "    s = list(string)\n",
    "    s[position] = character\n",
    "    return(\"\".join(s))\n",
    "\n",
    "if __name__ == '__main__':\n",
    "    s = input()\n",
    "    i, c = input().split()\n",
    "    s_new = mutate_string(s, int(i), c)\n",
    "    print(s_new)"
   ]
  },
  {
   "cell_type": "markdown",
   "metadata": {},
   "source": [
    "5. In this challenge, the user enters a string and a substring. You have to print the number of times that the substring occurs in the given string. String traversal will take place from left to right, not from right to left.\n",
    "\n",
    "NOTE: String letters are case-sensitive."
   ]
  },
  {
   "cell_type": "code",
   "execution_count": null,
   "metadata": {},
   "outputs": [],
   "source": [
    "def count_substring(string, sub_string):\n",
    "    n = 0\n",
    "    for i in range(len(string)):\n",
    "        if string[i: i+len(sub_string)] == sub_string:\n",
    "            n+= 1\n",
    "    return n\n",
    "\n",
    "if __name__ == '__main__':\n",
    "    string = input().strip()\n",
    "    sub_string = input().strip()\n",
    "    \n",
    "    count = count_substring(string, sub_string)\n",
    "    print(count)"
   ]
  },
  {
   "cell_type": "markdown",
   "metadata": {},
   "source": [
    "6. ou are given a string .\n",
    "Your task is to find out if the string  contains: alphanumeric characters, alphabetical characters, digits, lowercase and uppercase characters."
   ]
  },
  {
   "cell_type": "code",
   "execution_count": null,
   "metadata": {},
   "outputs": [],
   "source": [
    "if __name__ == '__main__':\n",
    "    s = input()\n",
    "    # if s.isalnum():\n",
    "    #     print(\"True\")\n",
    "    # else:\n",
    "    #     print(\"False\")\n",
    "    # if s.isalpha():\n",
    "    #     print(\"True\")\n",
    "    # else:\n",
    "    #     print(\"False\")\n",
    "    # if s.isdigit():\n",
    "    #     print(\"True\")\n",
    "    # else:\n",
    "    #     print(\"False\")\n",
    "    # if s.islower():\n",
    "    #     print(\"True\")\n",
    "    # else:\n",
    "    #     print(\"False\")\n",
    "    # if s.isupper():\n",
    "    #     print(\"True\")\n",
    "    # else:\n",
    "    #     print(\"False\")\n",
    "    \n",
    "    \n",
    "    # print(s.isalnum())\n",
    "    # print(s.isalpha())\n",
    "    # print(s.isdigit())\n",
    "    # print(s.islower())\n",
    "    # print(s.isupper())\n",
    "    \n",
    "    # print(True if s.isalnum else False)\n",
    "    # print(True if s.isalpha else False)\n",
    "    # print(True if s.isdigit else False)\n",
    "    # print(True if s.islower else False)\n",
    "    # print(True if s.isupper else False)\n",
    "    \n",
    "    \n",
    "    alphnu=0\n",
    "    alpha=0\n",
    "    dig=0\n",
    "    upper=0\n",
    "    lower=0\n",
    "    \n",
    "    for x in s:\n",
    "        if alphnu and alpha and dig and upper and lower >0:\n",
    "            break\n",
    "        if x.isalnum():\n",
    "            alphnu += 1\n",
    "        if x.isalpha():\n",
    "            alpha +=1 \n",
    "        if x.isdigit():\n",
    "            dig += 1\n",
    "        if x.islower():\n",
    "            upper += 1\n",
    "        if x.isupper():\n",
    "            lower +=1\n",
    "    \n",
    "    resultado=[alphnu > 0, alpha > 0, dig > 0, upper > 0, lower > 0]\n",
    "    for response in resultado:\n",
    "        print(response)\n",
    "    "
   ]
  },
  {
   "cell_type": "markdown",
   "metadata": {},
   "source": [
    "7. You are given a partial code that is used for generating the HackerRank Logo of variable thickness.\n",
    "Your task is to replace the blank (______) with rjust, ljust or center."
   ]
  },
  {
   "cell_type": "code",
   "execution_count": null,
   "metadata": {},
   "outputs": [],
   "source": [
    "n = int(input())\n",
    "s = ''\n",
    "# Top cone\n",
    "\n",
    "for i in range(1,n*2,2):\n",
    "    s = s + (i * 'H').center(n * 2 - 1 , \" \") + '\\n'\n",
    "    \n",
    "# Top Square\n",
    "\n",
    "s1 = (n * 'H').center(n * 2 - 1 , \" \") + (n * 2 + 1) * \" \"\n",
    "\n",
    "for i in range(n + 1):\n",
    "    s = s + (2 * s1) + '\\n'\n",
    "\n",
    "# Middle line\n",
    "\n",
    "s2 = (n * 5 * 'H').center(n * 6 - 1 , \" \")\n",
    "\n",
    "for i in range(0 , n , 2):\n",
    "    s = s + s2 + '\\n'\n",
    "\n",
    "# Bottom square\n",
    "\n",
    "s3 = (n * 'H').center(n * 2 - 1 , \" \") + (n * 2 + 1) * \" \"\n",
    "\n",
    "for i in range(n + 1):\n",
    "    s = s + (2 * s3) + '\\n'\n",
    "\n",
    "# Bottom cone\n",
    "\n",
    "for i in range(n * 2 - 1 , 0 , -2):\n",
    "    s = s + (n * 4) * ' ' + (i * 'H').center(n * 2 - 1) + '\\n'\n",
    "\n",
    "print(s)\n"
   ]
  },
  {
   "cell_type": "markdown",
   "metadata": {},
   "source": [
    "8.Check Tutorial tab to know how to to solve.\n",
    "\n",
    "You are given a string  and width .\n",
    "Your task is to wrap the string into a paragraph of width ."
   ]
  },
  {
   "cell_type": "code",
   "execution_count": null,
   "metadata": {},
   "outputs": [],
   "source": [
    "import textwrap\n",
    "\n",
    "\n",
    "def wrap(string, max_width):\n",
    "    string = list(string)\n",
    "    floating = 0\n",
    "\n",
    "    for i in range(max_width, len(string), max_width):\n",
    "        string.insert(i+floating, \"\\n\") #adding new line after max_width after every four elements\n",
    "        floating += 1\n",
    "\n",
    "    string = ''.join(string)\n",
    "    return string\n",
    "\n",
    "if __name__ == '__main__':\n",
    "    string, max_width = input(), int(input())\n",
    "    result = wrap(string, max_width)\n",
    "    print(result)"
   ]
  },
  {
   "cell_type": "markdown",
   "metadata": {},
   "source": [
    "9. Mr. Vincent works in a door mat manufacturing company. One day, he designed a new door mat with the following specifications:\n",
    "\n",
    "Mat size must be X. ( is an odd natural number, and  is  times .)\n",
    "The design should have 'WELCOME' written in the center.\n",
    "The design pattern should only use |, . and - characters."
   ]
  },
  {
   "cell_type": "code",
   "execution_count": null,
   "metadata": {},
   "outputs": [],
   "source": [
    "n, m = map(int, input().strip().split())\n",
    "pattern = 1\n",
    "full_string = str()\n",
    "for i in range(1, n+1):\n",
    "    if i == (n//2)+1:         #to know the middle line\n",
    "        print(\"WELCOME\".center(m, \"-\"))\n",
    "        full_string += \"WELCOME\".center(m, \"-\") + \"\\n\"\n",
    "        pattern -= 2\n",
    "    elif i < (n//2)+1:\n",
    "        print((\".|.\"*pattern).center(m, \"-\"))\n",
    "        full_string += (\".|.\"*pattern).center(m, \"-\") + \"\\n\"\n",
    "        pattern += 2\n",
    "    elif i > (n//2)+1:\n",
    "        print((\".|.\"*pattern).center(m, \"-\"))\n",
    "        full_string += (\".|.\"*pattern).center(m, \"-\") + \"\\n\"\n",
    "        pattern -= 2\n"
   ]
  },
  {
   "cell_type": "markdown",
   "metadata": {},
   "source": [
    "10. Given an integer, , print the following values for each integer  from  to :\n",
    "\n",
    "Decimal\n",
    "Octal\n",
    "Hexadecimal (capitalized)\n",
    "Binary"
   ]
  },
  {
   "cell_type": "code",
   "execution_count": null,
   "metadata": {},
   "outputs": [],
   "source": [
    "def print_formatted(number):\n",
    "    width = len(format(number, 'b'))\n",
    "    \n",
    "    for i in range(1, number + 1, 1):\n",
    "        dec = str(i).rjust(width,' ')\n",
    "        oct = format(i, \"o\").rjust(width, ' ')\n",
    "        hex = format(i, \"X\").rjust(width, ' ')\n",
    "        bin = format(i, 'b').rjust(width, ' ')\n",
    "        \n",
    "        print(f\"{dec} {oct} {hex} {bin}\")\n",
    "\n",
    "if __name__ == '__main__':\n",
    "    n = int(input())\n",
    "    print_formatted(n)"
   ]
  },
  {
   "cell_type": "markdown",
   "metadata": {},
   "source": [
    "11. You are given an integer, . Your task is to print an alphabet rangoli of size . (Rangoli is a form of Indian folk art based on creation of patterns.)\n",
    "\n",
    "Different sizes of alphabet rangoli are shown below:\n",
    "\n",
    "#size 3\n",
    "\n",
    "----c----\n",
    "--c-b-c--\n",
    "c-b-a-b-c\n",
    "--c-b-c--\n",
    "----c----\n",
    "\n",
    "#size 5\n",
    "\n",
    "--------e--------\n",
    "------e-d-e------\n",
    "----e-d-c-d-e----\n",
    "--e-d-c-b-c-d-e--\n",
    "e-d-c-b-a-b-c-d-e\n",
    "--e-d-c-b-c-d-e--\n",
    "----e-d-c-d-e----\n",
    "------e-d-e------\n",
    "--------e--------\n",
    "\n",
    "#size 10\n",
    "\n",
    "------------------j------------------\n",
    "----------------j-i-j----------------\n",
    "--------------j-i-h-i-j--------------\n",
    "------------j-i-h-g-h-i-j------------\n",
    "----------j-i-h-g-f-g-h-i-j----------\n",
    "--------j-i-h-g-f-e-f-g-h-i-j--------\n",
    "------j-i-h-g-f-e-d-e-f-g-h-i-j------\n",
    "----j-i-h-g-f-e-d-c-d-e-f-g-h-i-j----\n",
    "--j-i-h-g-f-e-d-c-b-c-d-e-f-g-h-i-j--\n",
    "j-i-h-g-f-e-d-c-b-a-b-c-d-e-f-g-h-i-j\n",
    "--j-i-h-g-f-e-d-c-b-c-d-e-f-g-h-i-j--\n",
    "----j-i-h-g-f-e-d-c-d-e-f-g-h-i-j----\n",
    "------j-i-h-g-f-e-d-e-f-g-h-i-j------\n",
    "--------j-i-h-g-f-e-f-g-h-i-j--------\n",
    "----------j-i-h-g-f-g-h-i-j----------\n",
    "------------j-i-h-g-h-i-j------------\n",
    "--------------j-i-h-i-j--------------\n",
    "----------------j-i-j----------------\n",
    "------------------j------------------\n",
    "The center of the rangoli has the first alphabet letter a, and the boundary has the  alphabet letter (in alphabetical order)."
   ]
  },
  {
   "cell_type": "code",
   "execution_count": null,
   "metadata": {},
   "outputs": [],
   "source": [
    "import string\n",
    "\n",
    "def print_rangoli(size):\n",
    "    letters = string.ascii_lowercase[:size]\n",
    "    width = 4 * size - 3\n",
    "    \n",
    "    for i in range(size-1,0,-1):\n",
    "        line = '-'.join(letters[size - 1: i: -1] + letters[i: size])\n",
    "        print(line.center(width, '-'))\n",
    "    for i in range(size):\n",
    "        line = '-'.join(letters[size - 1: i: -1] + letters[i: size])\n",
    "        print(line.center(width, '-'))\n",
    "if __name__ == '__main__':\n",
    "    n = int(input())\n",
    "    print_rangoli(n)"
   ]
  },
  {
   "cell_type": "markdown",
   "metadata": {},
   "source": [
    "12. You are asked to ensure that the first and last names of people begin with a capital letter in their passports. For example, alison heck should be capitalised correctly as Alison Heck.\n",
    "\n",
    "\n",
    "Given a full name, your task is to capitalize the name appropriately."
   ]
  },
  {
   "cell_type": "code",
   "execution_count": null,
   "metadata": {},
   "outputs": [],
   "source": [
    "# Complete the solve function below.\n",
    "def solve(s):\n",
    "    words = s.split(' ')\n",
    "    result = []\n",
    "    for i in words:\n",
    "        result.append(i.capitalize())\n",
    "    s = ' '.join(result)\n",
    "    return(s)\n",
    "if __name__ == '__main__':\n",
    "    fptr = open(os.environ['OUTPUT_PATH'], 'w')\n",
    "\n",
    "    s = input()\n",
    "\n",
    "    result = solve(s)\n",
    "\n",
    "    fptr.write(result + '\\n')\n",
    "\n",
    "    fptr.close()"
   ]
  },
  {
   "cell_type": "markdown",
   "metadata": {},
   "source": [
    "13. Kevin and Stuart want to play the 'The Minion Game'.\n",
    "\n",
    "Game Rules\n",
    "\n",
    "Both players are given the same string, .\n",
    "Both players have to make substrings using the letters of the string .\n",
    "Stuart has to make words starting with consonants.\n",
    "Kevin has to make words starting with vowels.\n",
    "The game ends when both players have made all possible substrings.\n",
    "\n",
    "Scoring\n",
    "A player gets +1 point for each occurrence of the substring in the string .13. "
   ]
  },
  {
   "cell_type": "code",
   "execution_count": null,
   "metadata": {},
   "outputs": [],
   "source": [
    "def minion_game(string):\n",
    "    # your code goes here\n",
    "    vowel=\"AOEUI\"\n",
    "    vowCounter=0\n",
    "    conCounter=0\n",
    "    i=0\n",
    "    while i < len(string):\n",
    "        \n",
    "        if  string[i] in vowel :\n",
    "            vowCounter+=len(string)-i\n",
    "        else:\n",
    "            conCounter+=len(string)-i\n",
    "        i+=1\n",
    "    \n",
    "    if vowCounter>conCounter:\n",
    "        print (\"Kevin\",vowCounter)\n",
    "    elif vowCounter<conCounter :\n",
    "        print (\"Stuart\",conCounter)\n",
    "    else :\n",
    "         print(\"Draw\")\n",
    "\n",
    "if __name__ == '__main__':\n",
    "    s = input()\n",
    "    minion_game(s)"
   ]
  },
  {
   "cell_type": "markdown",
   "metadata": {},
   "source": [
    "14. Consider the following:\n",
    "\n",
    "A string, , of length  where .\n",
    "An integer, , where  is a factor of .\n",
    "We can split  into  substrings where each subtring, , consists of a contiguous block of  characters in . Then, use each  to create string  such that:\n",
    "\n",
    "The characters in  are a subsequence of the characters in .\n",
    "Any repeat occurrence of a character is removed from the string such that each character in  occurs exactly once. In other words, if the character at some index  in  occurs at a previous index  in , then do not include the character in string .\n",
    "Given  and , print  lines where each line  denotes string ."
   ]
  },
  {
   "cell_type": "code",
   "execution_count": null,
   "metadata": {},
   "outputs": [],
   "source": [
    "from textwrap import wrap\n",
    "\n",
    "def merge_the_tools(string, k):\n",
    "    ls = wrap(string, k)\n",
    "    new_ls = []\n",
    "    for x in ls:\n",
    "        result = x[0]\n",
    "        for i in range(1,len(x)):\n",
    "            if x[i] not in result:\n",
    "                result += x[i]\n",
    "            else: \n",
    "                continue\n",
    "        print(result)\n",
    " \n",
    "if __name__ == '__main__':\n",
    "    string, k = input(), int(input())\n",
    "    merge_the_tools(string, k)"
   ]
  }
 ],
 "metadata": {
  "kernelspec": {
   "display_name": "Python 3",
   "language": "python",
   "name": "python3"
  },
  "language_info": {
   "codemirror_mode": {
    "name": "ipython",
    "version": 3
   },
   "file_extension": ".py",
   "mimetype": "text/x-python",
   "name": "python",
   "nbconvert_exporter": "python",
   "pygments_lexer": "ipython3",
   "version": "3.7.4"
  }
 },
 "nbformat": 4,
 "nbformat_minor": 2
}
